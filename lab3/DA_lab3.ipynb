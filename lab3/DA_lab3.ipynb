{
 "cells": [
  {
   "cell_type": "markdown",
   "metadata": {},
   "source": [
    "# Ex1. "
   ]
  },
  {
   "cell_type": "code",
   "execution_count": 5,
   "metadata": {},
   "outputs": [],
   "source": [
    "import pandas as pd\n",
    "import seaborn as sns\n",
    "import numpy as np\n",
    "import matplotlib.pyplot as plt"
   ]
  },
  {
   "cell_type": "markdown",
   "metadata": {},
   "source": [
    "### Gamma distribution with different params"
   ]
  },
  {
   "cell_type": "code",
   "execution_count": 6,
   "metadata": {},
   "outputs": [],
   "source": [
    "gammaDistribution={\n",
    "    \"shape=1 scale=1\":np.random.gamma(shape=1,scale=1,size=100000),\n",
    "    \"shape=5 scale=1\":np.random.gamma(shape=5,scale=1,size=100000),\n",
    "    \"shape=1 scale=5\":np.random.gamma(shape=1,scale=5,size=100000),\n",
    "}"
   ]
  },
  {
   "cell_type": "markdown",
   "metadata": {},
   "source": [
    "### Due to plots, we can observe how value of shape and scale params affect on distriibution"
   ]
  },
  {
   "cell_type": "code",
   "execution_count": 7,
   "metadata": {},
   "outputs": [
    {
     "data": {
      "text/plain": [
       "<seaborn.axisgrid.FacetGrid at 0x7ff0f8038fd0>"
      ]
     },
     "execution_count": 7,
     "metadata": {},
     "output_type": "execute_result"
    },
    {
     "data": {
      "image/png": "[encoded data removed]",
      "text/plain": [
       "<Figure size 648x216 with 3 Axes>"
      ]
     },
     "metadata": {
      "needs_background": "light"
     },
     "output_type": "display_data"
    }
   ],
   "source": [
    "dfGamma = pd.DataFrame(data=gammaDistribution)\n",
    "\n",
    "dfGammamelt = pd.melt(dfGamma,var_name='parameters',value_name='Value')\n",
    "\n",
    "\n",
    "g = sns.FacetGrid(dfGammamelt,col=\"parameters\",sharex=True)\n",
    "g.map(plt.hist,'Value',cumulative=False,bins=64)"
   ]
  },
  {
   "cell_type": "markdown",
   "metadata": {},
   "source": [
    "### Inverse-gamma distribution with different params"
   ]
  },
  {
   "cell_type": "code",
   "execution_count": 8,
   "metadata": {},
   "outputs": [],
   "source": [
    "from scipy.stats import invgamma\n",
    "\n",
    "invGammaDistribution={\n",
    "    \"shape=1 scale=1\":invgamma.rvs(a=1,scale=1,size=100000),\n",
    "    \"shape=5 scale=1\":invgamma.rvs(a=5,scale=1,size=100000),\n",
    "    \"shape=5 scale=5\":invgamma.rvs(a=5,scale=5,size=100000),\n",
    "}"
   ]
  },
  {
   "cell_type": "markdown",
   "metadata": {},
   "source": [
    "### Due to plots, we can observe how value of shape and scale params affect on inverse-gamma distriibution"
   ]
  },
  {
   "cell_type": "code",
   "execution_count": 9,
   "metadata": {},
   "outputs": [
    {
     "data": {
      "text/plain": [
       "<seaborn.axisgrid.FacetGrid at 0x7ff0cdc6ed10>"
      ]
     },
     "execution_count": 9,
     "metadata": {},
     "output_type": "execute_result"
    },
    {
     "data": {
      "image/png": "[encoded data removed]",
      "text/plain": [
       "<Figure size 648x216 with 3 Axes>"
      ]
     },
     "metadata": {
      "needs_background": "light"
     },
     "output_type": "display_data"
    }
   ],
   "source": [
    "dfinvGamma = pd.DataFrame(data=invGammaDistribution)\n",
    "\n",
    "dfinvGammamelt = pd.melt(dfinvGamma,var_name='parameters',value_name='Value')\n",
    "\n",
    "\n",
    "g = sns.FacetGrid(dfinvGammamelt,col=\"parameters\",sharex=False)\n",
    "g.map(plt.hist,'Value',cumulative=False,bins=64)"
   ]
  },
  {
   "cell_type": "markdown",
   "metadata": {},
   "source": [
    "### Impotring libs to use stan"
   ]
  },
  {
   "cell_type": "code",
   "execution_count": 10,
   "metadata": {},
   "outputs": [],
   "source": [
    "import sys\n",
    "import pystan\n",
    "import stan_utility\n",
    "\n",
    "import arviz as az\n",
    "import scipy.stats as stats"
   ]
  },
  {
   "cell_type": "markdown",
   "metadata": {},
   "source": [
    "### Some plot settings as in example "
   ]
  },
  {
   "cell_type": "code",
   "execution_count": 237,
   "metadata": {},
   "outputs": [],
   "source": [
    "import matplotlib as mpl\n",
    "\n",
    "light=\"#FFFCDC\"\n",
    "light_highlight=\"#FEF590\"\n",
    "mid=\"#FDED2A\"\n",
    "mid_highlight=\"#f0dc05\"\n",
    "dark=\"#EECA02\"\n",
    "dark_highlight=\"#BB9700\"\n",
    "green=\"#00FF00\"\n",
    "light_grey=\"#DDDDDD\"\n",
    "\n",
    "plt.style.context('seaborn-white')\n",
    "mpl.rcParams['figure.dpi']= 100"
   ]
  },
  {
   "cell_type": "markdown",
   "metadata": {},
   "source": [
    "### Finding parameters for Gamma distribution which 98% probability is for values between 5 and 10. In this case was used stan file with algebra_solver. It was created based on Airlines.ipynb"
   ]
  },
  {
   "cell_type": "code",
   "execution_count": 12,
   "metadata": {},
   "outputs": [
    {
     "name": "stdout",
     "output_type": "stream",
     "text": [
      "functions {\n",
      "  vector tail_delta(vector y, vector theta, real[] x_r, int[] x_i) {\n",
      "    vector[2] deltas;\n",
      "    //values between 5 and 10 with probabilty 98%, so 1% lesser than 5 and 1% greater than 10\n",
      "    deltas[1] = gamma_cdf(theta[1], y[1], y[2]) -0.01; //only 1% will be lesser than 5\n",
      "    deltas[2] = gamma_cdf(theta[2], y[1], y[2]) -0.99; //olny 1% will be greater than 10\n",
      "    return deltas;\n",
      "  }\n",
      "}\n",
      "\n",
      "data {\n",
      "  vector<lower=0>[2] y_guess; // Initial guess of gamma params\n",
      "  vector<lower=0>[2] theta;     // Target quantile\n",
      "}\n",
      "\n",
      "transformed data {\n",
      "\n",
      "  vector[2] y;\n",
      "  real x_r[0];\n",
      "  int x_i[0];\n",
      "\n",
      "  // Due to RuntimeError, relative tolerance was decrease to 1e-2 and max num_stes was increase do 1e6\n",
      "  y = algebra_solver(tail_delta, y_guess, theta, x_r, x_i,1e-10,1e-2,1e6);\n",
      "\n",
      "  print(\"alpha = \", y[1]);\n",
      "  print(\"beta = \", y[2]);\n",
      "}\n",
      "\n",
      "generated quantities {\n",
      "  real alpha = y[1];\n",
      "  real beta = y[2];\n",
      "}\n",
      "\n"
     ]
    }
   ],
   "source": [
    "with open('prior_tune_gamma.stan', 'r') as file:\n",
    "    print(file.read())"
   ]
  },
  {
   "cell_type": "code",
   "execution_count": 13,
   "metadata": {},
   "outputs": [
    {
     "name": "stdout",
     "output_type": "stream",
     "text": [
      "Using cached StanModel\n"
     ]
    }
   ],
   "source": [
    "tuning=stan_utility.compile_model('prior_tune_gamma.stan')"
   ]
  },
  {
   "cell_type": "markdown",
   "metadata": {},
   "source": [
    "### Compilation finished without error, so model was used to find params values. Starting from alpha=2 and betha=1, values of theta is our range. It allows to determine alpha and beta"
   ]
  },
  {
   "cell_type": "code",
   "execution_count": 14,
   "metadata": {},
   "outputs": [
    {
     "name": "stdout",
     "output_type": "stream",
     "text": [
      "46.0 6.0\n"
     ]
    }
   ],
   "source": [
    "data=dict(y_guess=np.array([2,1]),theta=np.array([5,10]))\n",
    "tuned= tuning.sampling(data=data,\n",
    "                            seed=1052020,\n",
    "                            algorithm=\"Fixed_param\",\n",
    "                            iter=1, \n",
    "                            warmup=0,\n",
    "                            chains=1)\n",
    "\n",
    "alpha = np.round(tuned.extract()['alpha'][0])\n",
    "beta = np.round(tuned.extract()['beta'][0])\n",
    "\n",
    "print(alpha,beta)"
   ]
  },
  {
   "cell_type": "markdown",
   "metadata": {},
   "source": [
    "### Before sampling, I checked if found values make sense. Seems, everything is okay, because most values are between 5 and 10."
   ]
  },
  {
   "cell_type": "code",
   "execution_count": 15,
   "metadata": {},
   "outputs": [
    {
     "data": {
      "image/png": "[encoded data removed]",
      "text/plain": [
       "<Figure size 1200x800 with 1 Axes>"
      ]
     },
     "metadata": {
      "needs_background": "light"
     },
     "output_type": "display_data"
    }
   ],
   "source": [
    "gamma = np.random.gamma(shape=alpha,scale=1/beta,size=100000)\n",
    "gammaHist = plt.hist(gamma, bins=512)"
   ]
  },
  {
   "cell_type": "markdown",
   "metadata": {},
   "source": [
    "### Model of gamma distribution in stan"
   ]
  },
  {
   "cell_type": "code",
   "execution_count": 16,
   "metadata": {},
   "outputs": [
    {
     "name": "stdout",
     "output_type": "stream",
     "text": [
      "data {\n",
      "    real<lower=0> alpha;\n",
      "    real<lower=0> beta;\n",
      "}\n",
      "\n",
      "parameters {\n",
      "    real y;\n",
      "}\n",
      "\n",
      "model {\n",
      "    y ~ gamma(alpha, beta);\n",
      "}\n",
      "\n"
     ]
    }
   ],
   "source": [
    "with open('gamma.stan', 'r') as file:\n",
    "    print(file.read())"
   ]
  },
  {
   "cell_type": "code",
   "execution_count": 17,
   "metadata": {},
   "outputs": [
    {
     "name": "stdout",
     "output_type": "stream",
     "text": [
      "Using cached StanModel\n"
     ]
    }
   ],
   "source": [
    "gamma_model=stan_utility.compile_model('gamma.stan')"
   ]
  },
  {
   "cell_type": "markdown",
   "metadata": {},
   "source": [
    "### Using stan model to plot gamma distribution. We can observe that most of values are bettwen 5 and 10 and the meean is equal 7.683"
   ]
  },
  {
   "cell_type": "code",
   "execution_count": 18,
   "metadata": {},
   "outputs": [
    {
     "name": "stdout",
     "output_type": "stream",
     "text": [
      "Mean value : 7.683\n"
     ]
    },
    {
     "data": {
      "image/png": "[encoded data removed]",
      "text/plain": [
       "<Figure size 1200x800 with 1 Axes>"
      ]
     },
     "metadata": {
      "needs_background": "light"
     },
     "output_type": "display_data"
    }
   ],
   "source": [
    "data=dict(alpha=alpha,\n",
    "            beta = beta)\n",
    "gamma_sampling=gamma_model.sampling(data=data,\n",
    "                                      iter=1000,\n",
    "                                      seed=10521020)\n",
    "\n",
    "params=gamma_sampling.extract()\n",
    "gammaSamplingHist=plt.hist(params['y'], bins=100)\n",
    "\n",
    "mean_y = np.mean(params['y'])\n",
    "print('Mean value : {:5.3f}'.format(mean_y))"
   ]
  },
  {
   "cell_type": "markdown",
   "metadata": {},
   "source": [
    "### Finding parameters for inverse-gamma distribution which 98% probability is for values between 5 and 10. Everything was made similar as in case of gamma distribution."
   ]
  },
  {
   "cell_type": "code",
   "execution_count": 19,
   "metadata": {},
   "outputs": [
    {
     "name": "stdout",
     "output_type": "stream",
     "text": [
      "functions {\n",
      "  vector tail_delta(vector y, vector theta, real[] x_r, int[] x_i) {\n",
      "    vector[2] deltas;\n",
      "    //values between 5 and 10 with probabilty 98%, so 1% lesser than 5 and 1% greater than 10\n",
      "    deltas[1] = inv_gamma_cdf(theta[1], y[1], y[2]) -0.01; //only 1% will be lesser than 5\n",
      "    deltas[2] = inv_gamma_cdf(theta[2], y[1], y[2]) -0.99; //olny 1% will be greater than 10\n",
      "    return deltas;\n",
      "  }\n",
      "}\n",
      "\n",
      "data {\n",
      "  vector<lower=0>[2] y_guess; // Initial guess of gamma params\n",
      "  vector<lower=0>[2] theta;     // Target quantile\n",
      "}\n",
      "\n",
      "transformed data {\n",
      "\n",
      "  vector[2] y;\n",
      "  real x_r[0];\n",
      "  int x_i[0];\n",
      "\n",
      "  // Due to RuntimeError, relative tolerance was decrease to 1e-2 and max num_stes was increase do 1e6\n",
      "  y = algebra_solver(tail_delta, y_guess, theta, x_r, x_i,1e-10,1.2e-2,1e6);\n",
      "\n",
      "  print(\"alpha = \", y[1]);\n",
      "  print(\"beta = \", y[2]);\n",
      "}\n",
      "\n",
      "generated quantities {\n",
      "  real alpha = y[1];\n",
      "  real beta = y[2];\n",
      "}\n",
      "\n"
     ]
    }
   ],
   "source": [
    "with open('prior_tune_invgamma.stan', 'r') as file:\n",
    "    print(file.read())"
   ]
  },
  {
   "cell_type": "code",
   "execution_count": 20,
   "metadata": {},
   "outputs": [
    {
     "name": "stdout",
     "output_type": "stream",
     "text": [
      "Using cached StanModel\n"
     ]
    }
   ],
   "source": [
    "tuning2=stan_utility.compile_model('prior_tune_invgamma.stan')"
   ]
  },
  {
   "cell_type": "code",
   "execution_count": 21,
   "metadata": {},
   "outputs": [
    {
     "name": "stdout",
     "output_type": "stream",
     "text": [
      "62.0 399.0\n"
     ]
    }
   ],
   "source": [
    "data=dict(y_guess=np.array([0.5,0.4]),theta=np.array([5,10]))\n",
    "tuned2= tuning2.sampling(data=data,\n",
    "                            seed=1052020,\n",
    "                            algorithm=\"Fixed_param\",\n",
    "                            iter=1, \n",
    "                            warmup=0,\n",
    "                            chains=1)\n",
    "\n",
    "alpha_inv = np.round(tuned2.extract()['alpha'][0])\n",
    "beta_inv = np.round(tuned2.extract()['beta'][0])\n",
    "\n",
    "print(alpha_inv,beta_inv)"
   ]
  },
  {
   "cell_type": "code",
   "execution_count": 22,
   "metadata": {},
   "outputs": [
    {
     "name": "stdout",
     "output_type": "stream",
     "text": [
      "data {\n",
      "    real<lower=0> alpha;\n",
      "    real<lower=0> beta;\n",
      "}\n",
      "\n",
      "parameters {\n",
      "    real y;\n",
      "}\n",
      "\n",
      "model {\n",
      "    y ~ inv_gamma(alpha, beta);\n",
      "}\n",
      "\n"
     ]
    }
   ],
   "source": [
    "with open('invgamma.stan', 'r') as file:\n",
    "    print(file.read())"
   ]
  },
  {
   "cell_type": "code",
   "execution_count": 23,
   "metadata": {},
   "outputs": [
    {
     "name": "stdout",
     "output_type": "stream",
     "text": [
      "Using cached StanModel\n"
     ]
    }
   ],
   "source": [
    "invgamma_model=stan_utility.compile_model('invgamma.stan')"
   ]
  },
  {
   "cell_type": "code",
   "execution_count": 24,
   "metadata": {},
   "outputs": [
    {
     "name": "stdout",
     "output_type": "stream",
     "text": [
      "Mean value : 6.566\n"
     ]
    },
    {
     "data": {
      "image/png": "[encoded data removed]",
      "text/plain": [
       "<Figure size 1200x800 with 1 Axes>"
      ]
     },
     "metadata": {
      "needs_background": "light"
     },
     "output_type": "display_data"
    }
   ],
   "source": [
    "data=dict(alpha=alpha_inv,\n",
    "            beta = beta_inv)\n",
    "invgamma_sampling=invgamma_model.sampling(data=data,\n",
    "                                      iter=1000,\n",
    "                                      seed=10521020)\n",
    "\n",
    "params_inv=invgamma_sampling.extract()\n",
    "invgammaSamplingHist=plt.hist(params_inv['y'], bins=200)\n",
    "mean_y = np.mean(params_inv['y'])\n",
    "print('Mean value : {:5.3f}'.format(mean_y))"
   ]
  },
  {
   "cell_type": "markdown",
   "metadata": {},
   "source": [
    "## In case inverse-gamma distribution, also most values are bettwen 5 and 10 (even 8), however more values are closer to 5, it's causing that mean is equal 6.566, where in case of gamma distribution it was 7.6."
   ]
  },
  {
   "cell_type": "markdown",
   "metadata": {},
   "source": [
    "# Ex2."
   ]
  },
  {
   "cell_type": "markdown",
   "metadata": {},
   "source": [
    "## Negativ binomial distribution"
   ]
  },
  {
   "cell_type": "code",
   "execution_count": 65,
   "metadata": {},
   "outputs": [
    {
     "name": "stdout",
     "output_type": "stream",
     "text": [
      "data {\n",
      "    real<lower=0> alpha;\n",
      "    real<lower=0> beta;\n",
      "}\n",
      "\n",
      "\n",
      "generated quantities {\n",
      "    int<lower=0> y;\n",
      "    y = neg_binomial_rng(alpha,beta);\n",
      "}\n",
      "\n"
     ]
    }
   ],
   "source": [
    "with open('nbino.stan', 'r') as file:\n",
    "    print(file.read())"
   ]
  },
  {
   "cell_type": "markdown",
   "metadata": {},
   "source": [
    "### In case of negative binomial distribution mean is equal $\\frac{α}{β}$ and variance is equal $\\frac{α}{β^{2}}(β+1)$"
   ]
  },
  {
   "cell_type": "code",
   "execution_count": 72,
   "metadata": {},
   "outputs": [
    {
     "name": "stdout",
     "output_type": "stream",
     "text": [
      "Using cached StanModel\n"
     ]
    }
   ],
   "source": [
    "nbino_model=stan_utility.compile_model('nbino.stan')"
   ]
  },
  {
   "cell_type": "markdown",
   "metadata": {},
   "source": [
    "### Same as in case of poisson distribution, output of negative binomial distribution is a nautral number, so for plot below, I set bins on 30, thanks to that every natural number has representation."
   ]
  },
  {
   "cell_type": "code",
   "execution_count": 100,
   "metadata": {},
   "outputs": [
    {
     "name": "stdout",
     "output_type": "stream",
     "text": [
      "Mean value : 9.942\n"
     ]
    },
    {
     "data": {
      "image/png": "[encoded data removed]",
      "text/plain": [
       "<Figure size 1200x800 with 1 Axes>"
      ]
     },
     "metadata": {
      "needs_background": "light"
     },
     "output_type": "display_data"
    }
   ],
   "source": [
    "data=dict(alpha=10,\n",
    "            beta = 1)\n",
    "nbino_sample = nbino_model.sampling(data=data,\n",
    "                            seed=1052020,\n",
    "                            algorithm=\"Fixed_param\",\n",
    "                            iter=1000,\n",
    "                            warmup=0)\n",
    "\n",
    "params_nbino=nbino_sample.extract()\n",
    "nbinoSamplingHist=plt.hist(params_nbino['y'], bins=30)\n",
    "\n",
    "mean_y = np.mean(params_nbino['y'])\n",
    "print('Mean value : {:5.3f}'.format(mean_y))"
   ]
  },
  {
   "cell_type": "markdown",
   "metadata": {},
   "source": [
    "## Negative Binomial Distribution (alternative parameterization)"
   ]
  },
  {
   "cell_type": "code",
   "execution_count": 104,
   "metadata": {},
   "outputs": [
    {
     "name": "stdout",
     "output_type": "stream",
     "text": [
      "data {\n",
      "    real<lower=0> mu;\n",
      "    real<lower=0> phi;\n",
      "}\n",
      "\n",
      "\n",
      "generated quantities {\n",
      "    int<lower=0> y;\n",
      "    y = neg_binomial_2_rng(mu,phi);\n",
      "}\n",
      "\n"
     ]
    }
   ],
   "source": [
    "with open('nbino_alt_param.stan', 'r') as file:\n",
    "    print(file.read())"
   ]
  },
  {
   "cell_type": "markdown",
   "metadata": {},
   "source": [
    "### In case of alternative parametrization of negative binomial distribution, there are two inpunt μ and ϕ. Mean is equal μ and variance is equal $μ+\\frac{μ^{2}}{ϕ}$"
   ]
  },
  {
   "cell_type": "code",
   "execution_count": 105,
   "metadata": {},
   "outputs": [
    {
     "name": "stderr",
     "output_type": "stream",
     "text": [
      "INFO:pystan:COMPILING THE C++ CODE FOR MODEL anon_model_5736d6e1ac77c39c06a1633ef396bdc7 NOW.\n"
     ]
    }
   ],
   "source": [
    "alt_nbino_model=stan_utility.compile_model('nbino_alt_param.stan')"
   ]
  },
  {
   "cell_type": "markdown",
   "metadata": {},
   "source": [
    "### By setting μ as 10 and ϕ as 10, we receive exactly the same values of mean(=10) and variance(=20) as in last example, so distribution is the same."
   ]
  },
  {
   "cell_type": "code",
   "execution_count": 111,
   "metadata": {},
   "outputs": [
    {
     "name": "stdout",
     "output_type": "stream",
     "text": [
      "Mean value : 9.942\n"
     ]
    },
    {
     "data": {
      "image/png": "[encoded data removed]",
      "text/plain": [
       "<Figure size 1200x800 with 1 Axes>"
      ]
     },
     "metadata": {
      "needs_background": "light"
     },
     "output_type": "display_data"
    }
   ],
   "source": [
    "data=dict(mu=10,\n",
    "            phi = 10)\n",
    "alt_nbino_sample = alt_nbino_model.sampling(data=data,\n",
    "                            seed=1052020,\n",
    "                            algorithm=\"Fixed_param\",\n",
    "                            iter=1000,\n",
    "                            warmup=0)\n",
    "\n",
    "params_alt_nbino=alt_nbino_sample.extract()\n",
    "alt_nbinoSamplingHist=plt.hist(params_alt_nbino['y'], bins=30)\n",
    "\n",
    "mean_y = np.mean(params_alt_nbino['y'])\n",
    "print('Mean value : {:5.3f}'.format(mean_y))"
   ]
  },
  {
   "cell_type": "markdown",
   "metadata": {},
   "source": [
    "## Poisson distribution"
   ]
  },
  {
   "cell_type": "code",
   "execution_count": 117,
   "metadata": {},
   "outputs": [
    {
     "name": "stdout",
     "output_type": "stream",
     "text": [
      "data {\n",
      "    real<lower=0> lam;\n",
      "}\n",
      "\n",
      "generated quantities {\n",
      "    int<lower=0> y;\n",
      "    y = poisson_rng(lam);\n",
      "}\n",
      "\n"
     ]
    }
   ],
   "source": [
    "with open('poisson.stan', 'r') as file:\n",
    "    print(file.read())"
   ]
  },
  {
   "cell_type": "code",
   "execution_count": 118,
   "metadata": {},
   "outputs": [
    {
     "name": "stderr",
     "output_type": "stream",
     "text": [
      "INFO:pystan:COMPILING THE C++ CODE FOR MODEL anon_model_c0775b27a10e2e72319fff6534bd58c8 NOW.\n"
     ]
    }
   ],
   "source": [
    "poisson_model=stan_utility.compile_model('poisson.stan')"
   ]
  },
  {
   "cell_type": "code",
   "execution_count": 128,
   "metadata": {},
   "outputs": [
    {
     "name": "stdout",
     "output_type": "stream",
     "text": [
      "Mean value : 10.004\n"
     ]
    },
    {
     "data": {
      "image/png": "[encoded data removed]",
      "text/plain": [
       "<Figure size 1200x800 with 1 Axes>"
      ]
     },
     "metadata": {
      "needs_background": "light"
     },
     "output_type": "display_data"
    }
   ],
   "source": [
    "data=dict(lam=10)\n",
    "poisson_sample = poisson_model.sampling(data=data,\n",
    "                            seed=1052020,\n",
    "                            algorithm=\"Fixed_param\",\n",
    "                            iter=1000,\n",
    "                            warmup=0)\n",
    "\n",
    "params_poisson=poisson_sample.extract()\n",
    "poissonSamplingHist=plt.hist(params_poisson['y'], bins=25)\n",
    "\n",
    "mean_y = np.mean(params_poisson['y'])\n",
    "print('Mean value : {:5.3f}'.format(mean_y))"
   ]
  },
  {
   "cell_type": "markdown",
   "metadata": {},
   "source": [
    "### By comparing results of Negative Binomial Distribution (alternative parameterization) with Poisson Distribution we can observer that for Poisson(μ) variance is lesser by $\\frac{μ^{2}}{ϕ}$ than in case of negBinomial(μ,ϕ), but they have the same mean."
   ]
  },
  {
   "cell_type": "markdown",
   "metadata": {},
   "source": [
    "# Ex3."
   ]
  },
  {
   "cell_type": "markdown",
   "metadata": {},
   "source": [
    "## Student-t distribution"
   ]
  },
  {
   "cell_type": "code",
   "execution_count": 133,
   "metadata": {},
   "outputs": [
    {
     "name": "stdout",
     "output_type": "stream",
     "text": [
      "data {\n",
      "    int<lower=0> N; //number of cases\n",
      "    real<lower=0> nu;\n",
      "    real mu[N];\n",
      "    real<lower=0> sigma[N];\n",
      "}\n",
      "\n",
      "parameters {\n",
      "    real y[N];\n",
      "}\n",
      "\n",
      "model {\n",
      "    y ~ student_t(nu, mu, sigma);\n",
      "}\n",
      "\n"
     ]
    }
   ],
   "source": [
    "with open('student_t.stan', 'r') as file:\n",
    "    print(file.read())"
   ]
  },
  {
   "cell_type": "markdown",
   "metadata": {},
   "source": [
    "### Observation how different parameters affect distribution"
   ]
  },
  {
   "cell_type": "code",
   "execution_count": 200,
   "metadata": {},
   "outputs": [
    {
     "name": "stdout",
     "output_type": "stream",
     "text": [
      "Using cached StanModel\n"
     ]
    }
   ],
   "source": [
    "student_t_model=stan_utility.compile_model('student_t.stan')"
   ]
  },
  {
   "cell_type": "code",
   "execution_count": 225,
   "metadata": {},
   "outputs": [
    {
     "data": {
      "text/plain": [
       "<seaborn.axisgrid.FacetGrid at 0x7ff08bc2d690>"
      ]
     },
     "execution_count": 225,
     "metadata": {},
     "output_type": "execute_result"
    },
    {
     "data": {
      "image/png": "[encoded data removed]",
      "text/plain": [
       "<Figure size 2400x600 with 4 Axes>"
      ]
     },
     "metadata": {
      "needs_background": "light"
     },
     "output_type": "display_data"
    }
   ],
   "source": [
    "N = 4;\n",
    "nu = 2;\n",
    "mu=np.array([0,0,1,1]) #np.linspace(0,5,N)\n",
    "sigma=np.array([1,2,1,3])#np.linspace(5,1,N)\n",
    "data=dict(N=N,\n",
    "          nu=nu,\n",
    "          mu=mu,\n",
    "          sigma=sigma)\n",
    "student_t_sample = student_t_model.sampling(data=data,\n",
    "                            seed=1052020,\n",
    "                            iter=1000,\n",
    "                            chains=1)\n",
    "\n",
    "params_student_t=student_t_sample.extract()\n",
    "y = params_student_t['y']\n",
    "df = pd.DataFrame(y)\n",
    "ymelt = pd.melt(df,var_name='y',value_name='Value')\n",
    "\n",
    "\n",
    "g = sns.FacetGrid(ymelt,col=\"y\",sharex=True)\n",
    "g.map(plt.hist,'Value',cumulative=False,bins=100)\n",
    "#student_tSamplingHist=plt.hist(y, bins=100)"
   ]
  },
  {
   "cell_type": "code",
   "execution_count": 227,
   "metadata": {},
   "outputs": [
    {
     "name": "stdout",
     "output_type": "stream",
     "text": [
      "data {\n",
      "    real<lower=0> nu;\n",
      "    real mu;\n",
      "    real<lower=0> sigma;\n",
      "}\n",
      "\n",
      "parameters {\n",
      "    real y;\n",
      "}\n",
      "\n",
      "model {\n",
      "    y ~ student_t(nu, mu, sigma);\n",
      "}\n",
      "\n"
     ]
    }
   ],
   "source": [
    "with open('studentt.stan', 'r') as file:\n",
    "    print(file.read())"
   ]
  },
  {
   "cell_type": "markdown",
   "metadata": {},
   "source": [
    "### Obsereation how number of iteration(samples) affect distribution for one set of parameters"
   ]
  },
  {
   "cell_type": "code",
   "execution_count": 229,
   "metadata": {},
   "outputs": [
    {
     "name": "stdout",
     "output_type": "stream",
     "text": [
      "Using cached StanModel\n"
     ]
    }
   ],
   "source": [
    "studentt_model=stan_utility.compile_model('studentt.stan')"
   ]
  },
  {
   "cell_type": "code",
   "execution_count": 263,
   "metadata": {},
   "outputs": [
    {
     "name": "stderr",
     "output_type": "stream",
     "text": [
      "WARNING:pystan:Rhat above 1.1 or below 0.9 indicates that the chains very likely have not mixed\n"
     ]
    },
    {
     "data": {
      "image/png": "[encoded data removed]",
      "text/plain": [
       "<Figure size 600x400 with 1 Axes>"
      ]
     },
     "metadata": {
      "needs_background": "light"
     },
     "output_type": "display_data"
    },
    {
     "data": {
      "image/png": "[encoded data removed]",
      "text/plain": [
       "<Figure size 600x400 with 1 Axes>"
      ]
     },
     "metadata": {
      "needs_background": "light"
     },
     "output_type": "display_data"
    },
    {
     "data": {
      "image/png": "[encoded data removed]",
      "text/plain": [
       "<Figure size 600x400 with 1 Axes>"
      ]
     },
     "metadata": {
      "needs_background": "light"
     },
     "output_type": "display_data"
    }
   ],
   "source": [
    "iteration = [100,1000,10000]\n",
    "data=dict(nu=2,\n",
    "          mu=0,\n",
    "          sigma=1)\n",
    "for i in iteration:\n",
    "    studentt_sample=studentt_model.sampling(data=data,\n",
    "                     iter=i,\n",
    "                     chains=1,\n",
    "                     seed=1052020)\n",
    "    params_studentt=studentt_sample.extract()\n",
    "    plt.figure()\n",
    "    studenttSamplingHist=plt.hist(params_studentt['y'], bins=100)\n",
    "    mean_y = np.mean(params_studentt['y'])\n",
    "    var_y = np.var(params_studentt['y'])\n",
    "    plt.title(\"Iterations = {},mean={:5.3f},variance={:5.3f}\".format(i,mean_y,var_y))\n",
    "    plt.xlim(-20,20)\n",
    "    \n",
    "    \n",
    "    \n"
   ]
  },
  {
   "cell_type": "markdown",
   "metadata": {},
   "source": [
    "### Incremention of samples causes the variance to decrease and increasing the accuracy of mean"
   ]
  },
  {
   "cell_type": "code",
   "execution_count": 256,
   "metadata": {},
   "outputs": [],
   "source": []
  },
  {
   "cell_type": "code",
   "execution_count": 265,
   "metadata": {},
   "outputs": [
    {
     "data": {
      "image/png": "[encoded data removed]",
      "text/plain": [
       "<Figure size 600x400 with 1 Axes>"
      ]
     },
     "metadata": {
      "needs_background": "light"
     },
     "output_type": "display_data"
    }
   ],
   "source": [
    "data=dict(nu=2,\n",
    "          mu=0,\n",
    "          sigma=1)\n",
    "studentt_sample=studentt_model.sampling(data=data,\n",
    "                                     iter=1000,\n",
    "                                     chains=1,\n",
    "                                     seed=1052020)\n",
    "params_studentt=studentt_sample.extract()\n",
    "studenttSamplingHist=plt.hist(params_studentt['y'], bins=100)"
   ]
  },
  {
   "cell_type": "code",
   "execution_count": null,
   "metadata": {},
   "outputs": [],
   "source": []
  }
 ],
 "metadata": {
  "kernelspec": {
   "display_name": "Python 3",
   "language": "python",
   "name": "python3"
  },
  "language_info": {
   "codemirror_mode": {
    "name": "ipython",
    "version": 3
   },
   "file_extension": ".py",
   "mimetype": "text/x-python",
   "name": "python",
   "nbconvert_exporter": "python",
   "pygments_lexer": "ipython3",
   "version": "3.7.7"
  }
 },
 "nbformat": 4,
 "nbformat_minor": 4
}
